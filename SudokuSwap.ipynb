{
 "cells": [
  {
   "cell_type": "code",
   "execution_count": 1,
   "id": "97d82b2a-99d8-4eec-8946-ed2c72193339",
   "metadata": {},
   "outputs": [],
   "source": [
    "import numpy as np"
   ]
  },
  {
   "cell_type": "code",
   "execution_count": 398,
   "id": "3568b5e3-eb94-4482-ad2d-f02d1d822fca",
   "metadata": {},
   "outputs": [],
   "source": [
    "class Board:\n",
    "    def __init__(self, board):\n",
    "        self._board = np.array(board)\n",
    "        w, h = self._board.shape\n",
    "        assert w == h\n",
    "        self._l = w\n",
    "        sl = np.sqrt(w)\n",
    "        assert sl % 1 == 0\n",
    "        self._sl, sl = int(sl), int(sl)\n",
    "\n",
    "    def swapRows(self, a, b):\n",
    "        assert (a // self._sl) == (b // self._sl)\n",
    "        self._board[[a,b]] = self._board[[b,a]]\n",
    "    \n",
    "    def swapCols(self, a, b):\n",
    "        assert (a // self._sl) == (b // self._sl)\n",
    "        self._board[:, a], self._board[:, b] = self._board[:, b], self._board[:, a].copy()\n",
    "\n",
    "    def get(self, a, b):\n",
    "        return self._board[a][b]\n",
    "        \n",
    "    def Iterate(self):\n",
    "        for x in range(0, len(self._board)):\n",
    "            for y in range(0, len(self._board[x])):\n",
    "                yield x, y, self._board[x][y]\n",
    "                \n",
    "    def getSection(self, a, b):\n",
    "        return ((a // self._sl),(b // self._sl))\n",
    "\n",
    "    def getAllSections(self):\n",
    "        for i in range(0, self._sl):\n",
    "            for j in range(0, self._sl):\n",
    "                yield i,j\n",
    "    \n",
    "    def findRelativeVal(self, val, a, b):\n",
    "        x,y = self.getSection(a,b)\n",
    "        x = x * self._sl\n",
    "        y = y * self._sl\n",
    "        subsection = self._board[x:x+self._sl,y:y+self._sl]\n",
    "        return list(zip(*np.where(subsection == val)))\n",
    "        \n",
    "    def fromSection(self, a, b):\n",
    "        x = a * self._sl\n",
    "        y = b * self._sl\n",
    "        m = x + self._sl\n",
    "        n = y + self._sl\n",
    "        for i in range(x,m):\n",
    "            for j in range(y,n):\n",
    "                yield i,j\n",
    "        \n",
    "    def print(self) -> None:\n",
    "        out = \"\"\n",
    "        for row in range(len(self._board)):\n",
    "            if row % self._sl == 0 and row != 0:\n",
    "                print(\"- \"*(self._sl*self._sl+self._sl))\n",
    "            for col in range(len(self._board[0])):\n",
    "                if col % self._sl == 0 and col != 0:\n",
    "                    print(\" | \", end=\"\")\n",
    "    \n",
    "                if col == self._l - 1:\n",
    "                    print(self._board[row][col])\n",
    "                else:\n",
    "                    print(str(self._board[row][col]) + \" \", end=\"\")"
   ]
  },
  {
   "cell_type": "code",
   "execution_count": 399,
   "id": "c9da0a17-bdee-4d97-90f0-be9c47f77dc1",
   "metadata": {},
   "outputs": [],
   "source": [
    "b = np.array([[5,3,0,0,7,0,0,0,0],\n",
    "              [6,0,0,1,9,5,0,0,0],\n",
    "              [0,9,8,0,0,0,0,6,0],\n",
    "              [8,0,0,0,6,0,0,0,3],\n",
    "              [4,0,0,8,0,3,0,0,1],\n",
    "              [7,0,0,0,2,0,0,0,6],\n",
    "              [0,6,0,0,0,0,2,8,0],\n",
    "              [0,0,0,4,1,9,0,0,5],\n",
    "              [0,0,0,0,8,0,0,7,9]])"
   ]
  },
  {
   "cell_type": "code",
   "execution_count": 400,
   "id": "7d0d1c08-50bb-45ee-9d7c-4ae7297c15f2",
   "metadata": {},
   "outputs": [],
   "source": [
    "board = Board(b)"
   ]
  },
  {
   "cell_type": "code",
   "execution_count": 401,
   "id": "4af01f2f-96b8-4f95-9ee4-893b6b7aba58",
   "metadata": {},
   "outputs": [
    {
     "name": "stdout",
     "output_type": "stream",
     "text": [
      "5 3 0  | 0 7 0  | 0 0 0\n",
      "6 0 0  | 1 9 5  | 0 0 0\n",
      "0 9 8  | 0 0 0  | 0 6 0\n",
      "- - - - - - - - - - - - \n",
      "8 0 0  | 0 6 0  | 0 0 3\n",
      "4 0 0  | 8 0 3  | 0 0 1\n",
      "7 0 0  | 0 2 0  | 0 0 6\n",
      "- - - - - - - - - - - - \n",
      "0 6 0  | 0 0 0  | 2 8 0\n",
      "0 0 0  | 4 1 9  | 0 0 5\n",
      "0 0 0  | 0 8 0  | 0 7 9\n"
     ]
    }
   ],
   "source": [
    "board.print()"
   ]
  },
  {
   "cell_type": "code",
   "execution_count": 402,
   "id": "ecdf4f2f-e446-4229-b9ac-3acfcc5dc007",
   "metadata": {},
   "outputs": [],
   "source": [
    "board.swapRows(6,8)"
   ]
  },
  {
   "cell_type": "code",
   "execution_count": 403,
   "id": "44e1775d-bab3-45a4-99ec-d6141a11204d",
   "metadata": {},
   "outputs": [
    {
     "name": "stdout",
     "output_type": "stream",
     "text": [
      "5 3 0  | 0 7 0  | 0 0 0\n",
      "6 0 0  | 1 9 5  | 0 0 0\n",
      "0 9 8  | 0 0 0  | 0 6 0\n",
      "- - - - - - - - - - - - \n",
      "8 0 0  | 0 6 0  | 0 0 3\n",
      "4 0 0  | 8 0 3  | 0 0 1\n",
      "7 0 0  | 0 2 0  | 0 0 6\n",
      "- - - - - - - - - - - - \n",
      "0 0 0  | 0 8 0  | 0 7 9\n",
      "0 0 0  | 4 1 9  | 0 0 5\n",
      "0 6 0  | 0 0 0  | 2 8 0\n"
     ]
    }
   ],
   "source": [
    "board.print()"
   ]
  },
  {
   "cell_type": "code",
   "execution_count": 404,
   "id": "cc63f720-5580-413d-bc55-2eea96dd21cc",
   "metadata": {},
   "outputs": [],
   "source": [
    "solved_b =np.array([[3, 1, 6, 5, 7, 8, 4, 9, 2],\n",
    "                    [5, 2, 9, 1, 3, 4, 7, 6, 8],\n",
    "                    [4, 8, 7, 6, 2, 9, 5, 3, 1],\n",
    "                    [2, 6, 3, 4, 1, 5, 9, 8, 7],\n",
    "                    [9, 7, 4, 8, 6, 3, 1, 2, 5],\n",
    "                    [8, 5, 1, 7, 9, 2, 6, 4, 3],\n",
    "                    [1, 3, 8, 9, 4, 7, 2, 5, 6],\n",
    "                    [6, 9, 2, 3, 5, 1, 8, 7, 4],\n",
    "                    [7, 4, 5, 2, 8, 6, 3, 1, 9]])"
   ]
  },
  {
   "cell_type": "code",
   "execution_count": 405,
   "id": "a1850334-5b8f-46bd-b9ef-9d0c7f4d0a8c",
   "metadata": {},
   "outputs": [],
   "source": [
    "sboard = Board(solved_b)"
   ]
  },
  {
   "cell_type": "code",
   "execution_count": 406,
   "id": "6da8083b-f119-49ed-9e90-8bad285934ee",
   "metadata": {},
   "outputs": [
    {
     "name": "stdout",
     "output_type": "stream",
     "text": [
      "3 1 6  | 5 7 8  | 4 9 2\n",
      "5 2 9  | 1 3 4  | 7 6 8\n",
      "4 8 7  | 6 2 9  | 5 3 1\n",
      "- - - - - - - - - - - - \n",
      "2 6 3  | 4 1 5  | 9 8 7\n",
      "9 7 4  | 8 6 3  | 1 2 5\n",
      "8 5 1  | 7 9 2  | 6 4 3\n",
      "- - - - - - - - - - - - \n",
      "1 3 8  | 9 4 7  | 2 5 6\n",
      "6 9 2  | 3 5 1  | 8 7 4\n",
      "7 4 5  | 2 8 6  | 3 1 9\n"
     ]
    }
   ],
   "source": [
    "sboard.print()"
   ]
  },
  {
   "cell_type": "code",
   "execution_count": 422,
   "id": "2cccc2df-18af-4b77-ba1a-1513e34671b6",
   "metadata": {},
   "outputs": [],
   "source": [
    "mini_b = np.array([[0,0,0,3],\n",
    "                   [0,4,0,0],\n",
    "                   [0,0,3,2],\n",
    "                   [0,0,0,0]])"
   ]
  },
  {
   "cell_type": "code",
   "execution_count": 423,
   "id": "4ec16cf8-14aa-4ab7-9f9b-0b8337a0d06a",
   "metadata": {},
   "outputs": [],
   "source": [
    "mBoard = Board(mini_b)"
   ]
  },
  {
   "cell_type": "code",
   "execution_count": 424,
   "id": "082f8053-5dc0-4ccf-96d0-9e2b603a0075",
   "metadata": {},
   "outputs": [
    {
     "name": "stdout",
     "output_type": "stream",
     "text": [
      "0 0  | 0 3\n",
      "0 4  | 0 0\n",
      "- - - - - - \n",
      "0 0  | 3 2\n",
      "0 0  | 0 0\n"
     ]
    }
   ],
   "source": [
    "mBoard.print()"
   ]
  },
  {
   "cell_type": "code",
   "execution_count": 425,
   "id": "99c3ff28-eb5f-4594-bf4a-3d57ea2b3d71",
   "metadata": {},
   "outputs": [],
   "source": [
    "solved_mb = np.array([[2,4,3,1],\n",
    "                      [3,1,4,2],\n",
    "                      [4,2,1,3],\n",
    "                      [1,3,2,4]])"
   ]
  },
  {
   "cell_type": "code",
   "execution_count": 426,
   "id": "34184fec-655d-40f1-aa1d-4388f0e4a01a",
   "metadata": {},
   "outputs": [],
   "source": [
    "smB= Board(solved_mb)"
   ]
  },
  {
   "cell_type": "code",
   "execution_count": 427,
   "id": "3dbbf85d-410a-4e77-9d50-1b090aeff103",
   "metadata": {},
   "outputs": [
    {
     "name": "stdout",
     "output_type": "stream",
     "text": [
      "2 4  | 3 1\n",
      "3 1  | 4 2\n",
      "- - - - - - \n",
      "4 2  | 1 3\n",
      "1 3  | 2 4\n"
     ]
    }
   ],
   "source": [
    "smB.print()"
   ]
  },
  {
   "cell_type": "code",
   "execution_count": 431,
   "id": "1bd65cc1-8a62-4497-be82-bb29183b588e",
   "metadata": {},
   "outputs": [
    {
     "name": "stdout",
     "output_type": "stream",
     "text": [
      "1 0\n",
      "0 1\n",
      "2 3\n",
      "2 3\n"
     ]
    }
   ],
   "source": [
    "for x,y in mBoard.getAllSections():\n",
    "    for i,j in mBoard.fromSection(x,y):\n",
    "        val = mBoard.get(i,j)\n",
    "        if val != 0:\n",
    "            m,n = smB.findRelativeVal(val,i,j)[0]\n",
    "            m = m + x*mBoard._sl\n",
    "            n = n + y*mBoard._sl\n",
    "            if i != m:\n",
    "                print(i,m)\n",
    "                smB.swapCols(m, i)\n",
    "            if j != n:\n",
    "                smB.swapRows(n, j)            "
   ]
  },
  {
   "cell_type": "code",
   "execution_count": 430,
   "id": "e0913f74-d7f2-4fdd-be27-3d4e658f9b31",
   "metadata": {},
   "outputs": [
    {
     "name": "stdout",
     "output_type": "stream",
     "text": [
      "4 2  | 3 1\n",
      "1 3  | 4 2\n",
      "- - - - - - \n",
      "2 4  | 1 3\n",
      "3 1  | 2 4\n"
     ]
    }
   ],
   "source": [
    "smB.print()"
   ]
  },
  {
   "cell_type": "code",
   "execution_count": 303,
   "id": "b6eaf3dd-dd13-4415-929c-cf2e1f9574ac",
   "metadata": {},
   "outputs": [],
   "source": [
    "x=0;y=0;_sl=2;"
   ]
  },
  {
   "cell_type": "code",
   "execution_count": 320,
   "id": "d106fc9e-bf0e-4e54-9c4c-41fb7f322b4e",
   "metadata": {},
   "outputs": [
    {
     "data": {
      "text/plain": [
       "array([[4, 0],\n",
       "       [0, 3]])"
      ]
     },
     "execution_count": 320,
     "metadata": {},
     "output_type": "execute_result"
    }
   ],
   "source": [
    "mBoard._board[x:x+_sl,y:y+_sl]"
   ]
  },
  {
   "cell_type": "code",
   "execution_count": null,
   "id": "839a6875-3fa6-4907-b8d3-fc9d2a44b194",
   "metadata": {},
   "outputs": [],
   "source": []
  }
 ],
 "metadata": {
  "kernelspec": {
   "display_name": "Python 3 (ipykernel)",
   "language": "python",
   "name": "python3"
  },
  "language_info": {
   "codemirror_mode": {
    "name": "ipython",
    "version": 3
   },
   "file_extension": ".py",
   "mimetype": "text/x-python",
   "name": "python",
   "nbconvert_exporter": "python",
   "pygments_lexer": "ipython3",
   "version": "3.10.11"
  }
 },
 "nbformat": 4,
 "nbformat_minor": 5
}
